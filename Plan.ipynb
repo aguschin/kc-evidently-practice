{
 "cells": [
  {
   "cell_type": "markdown",
   "metadata": {},
   "source": [
    "План:\n",
    "1. Анализируем качество моделей, данных и data drift во время экспериментов по обучению моделей\n",
    "2. Мониторим качество моделей, данных и data drift в регулярных процессах (инференс, переобучение)\n",
    "\n",
    "Инструмент: evidently\n",
    "\n",
    "<img src=\"1.png\">"
   ]
  }
 ],
 "metadata": {
  "language_info": {
   "name": "python"
  }
 },
 "nbformat": 4,
 "nbformat_minor": 2
}
